{
 "cells": [
  {
   "cell_type": "code",
   "execution_count": 2,
   "id": "20fe3947-1c87-4b8b-80de-7891ce6e1931",
   "metadata": {},
   "outputs": [
    {
     "name": "stdout",
     "output_type": "stream",
     "text": [
      "        0\n",
      "0  Python\n",
      "1  Pandas\n"
     ]
    }
   ],
   "source": [
    "import pandas as pd\n",
    "x=['Python','Pandas']\n",
    "df=pd.DataFrame(x)\n",
    "print(df)"
   ]
  },
  {
   "cell_type": "code",
   "execution_count": 3,
   "id": "e6a94263-e710-4e37-87ba-5d97a8062f13",
   "metadata": {},
   "outputs": [
    {
     "data": {
      "text/plain": [
       "0    Core\n",
       "1     NaN\n",
       "2     NaN\n",
       "3     NaN\n",
       "dtype: object"
      ]
     },
     "execution_count": 3,
     "metadata": {},
     "output_type": "execute_result"
    }
   ],
   "source": [
    "import numpy as np\n",
    "a=pd.Series(['Java','C','C++',np.nan])\n",
    "a.map({'Java':'Core'})"
   ]
  },
  {
   "cell_type": "code",
   "execution_count": 5,
   "id": "836f9e0b-63f8-45f8-a440-e81bd7265966",
   "metadata": {},
   "outputs": [
    {
     "data": {
      "text/plain": [
       "0    I like Java\n",
       "1       I like C\n",
       "2     I like C++\n",
       "3            NaN\n",
       "dtype: object"
      ]
     },
     "execution_count": 5,
     "metadata": {},
     "output_type": "execute_result"
    }
   ],
   "source": [
    "a=pd.Series(['Java','C','C++',np.nan])\n",
    "a.map({'Java':'Core'})\n",
    "a.map('I like {}'.format,na_action='ignore')"
   ]
  },
  {
   "cell_type": "code",
   "execution_count": 7,
   "id": "0d4a4609-7e52-4254-860a-b7ea75ef837f",
   "metadata": {},
   "outputs": [
    {
     "data": {
      "text/html": [
       "<div>\n",
       "<style scoped>\n",
       "    .dataframe tbody tr th:only-of-type {\n",
       "        vertical-align: middle;\n",
       "    }\n",
       "\n",
       "    .dataframe tbody tr th {\n",
       "        vertical-align: top;\n",
       "    }\n",
       "\n",
       "    .dataframe thead th {\n",
       "        text-align: right;\n",
       "    }\n",
       "</style>\n",
       "<table border=\"1\" class=\"dataframe\">\n",
       "  <thead>\n",
       "    <tr style=\"text-align: right;\">\n",
       "      <th></th>\n",
       "      <th>vals</th>\n",
       "    </tr>\n",
       "  </thead>\n",
       "  <tbody>\n",
       "    <tr>\n",
       "      <th>0</th>\n",
       "      <td>a</td>\n",
       "    </tr>\n",
       "    <tr>\n",
       "      <th>1</th>\n",
       "      <td>b</td>\n",
       "    </tr>\n",
       "    <tr>\n",
       "      <th>2</th>\n",
       "      <td>c</td>\n",
       "    </tr>\n",
       "  </tbody>\n",
       "</table>\n",
       "</div>"
      ],
      "text/plain": [
       "  vals\n",
       "0    a\n",
       "1    b\n",
       "2    c"
      ]
     },
     "execution_count": 7,
     "metadata": {},
     "output_type": "execute_result"
    }
   ],
   "source": [
    "s=pd.Series(['a','b','c'],name='vals')\n",
    "s.to_frame()"
   ]
  },
  {
   "cell_type": "code",
   "execution_count": 8,
   "id": "75c3a4c0-b292-477c-9a8c-e6c0cebb59db",
   "metadata": {},
   "outputs": [
    {
     "name": "stdout",
     "output_type": "stream",
     "text": [
      "       Emp   ID\n",
      "0   Parker  102\n",
      "1     John  107\n",
      "2    Smith  109\n",
      "3  William  114\n"
     ]
    }
   ],
   "source": [
    "import matplotlib.pyplot as plt\n",
    "emp=['Parker','John','Smith','William']\n",
    "id=[102,107,109,114]\n",
    "emp_series=pd.Series(emp)\n",
    "id_series=pd.Series(id)\n",
    "frame={'Emp':emp_series,'ID':id_series}\n",
    "result=pd.DataFrame(frame)\n",
    "print(result)"
   ]
  },
  {
   "cell_type": "code",
   "execution_count": 10,
   "id": "78364200-9ed2-4551-8674-3c51e293c461",
   "metadata": {},
   "outputs": [
    {
     "name": "stdout",
     "output_type": "stream",
     "text": [
      "    ID Department\n",
      "0  101       B.Sc\n",
      "1  102     B.Tech\n",
      "2  103     M.Tech\n"
     ]
    }
   ],
   "source": [
    "info={'ID':[101,102,103],'Department':['B.Sc','B.Tech','M.Tech']}\n",
    "df=pd.DataFrame(info)\n",
    "print(df)"
   ]
  },
  {
   "cell_type": "code",
   "execution_count": 11,
   "id": "22f5cf64-ddf5-49eb-b7b3-b2dc2a9f0946",
   "metadata": {},
   "outputs": [
    {
     "name": "stdout",
     "output_type": "stream",
     "text": [
      "   one  two\n",
      "a  1.0    1\n",
      "b  2.0    2\n",
      "c  3.0    3\n",
      "d  4.0    4\n",
      "e  5.0    5\n",
      "f  6.0    6\n",
      "g  NaN    7\n",
      "h  NaN    8\n"
     ]
    }
   ],
   "source": [
    "info={'one':pd.Series([1,2,3,4,5,6], index=['a','b','c','d','e','f']),'two':pd.Series([1,2,3,4,5,6,7,8],index=['a','b','c','d','e','f','g','h'])}\n",
    "d1=pd.DataFrame(info)\n",
    "print(d1)"
   ]
  },
  {
   "cell_type": "code",
   "execution_count": 12,
   "id": "c59f249a-f995-4172-93a5-06cc9271db52",
   "metadata": {},
   "outputs": [
    {
     "name": "stdout",
     "output_type": "stream",
     "text": [
      "   one  two\n",
      "0  1.0    1\n",
      "1  2.0    2\n",
      "2  3.0    3\n",
      "3  4.0    4\n",
      "4  5.0    5\n",
      "5  6.0    6\n",
      "6  NaN    7\n",
      "7  NaN    8\n"
     ]
    }
   ],
   "source": [
    "info={'one':pd.Series([1,2,3,4,5,6]),'two':pd.Series([1,2,3,4,5,6,7,8])}\n",
    "d1=pd.DataFrame(info)\n",
    "print(d1)"
   ]
  },
  {
   "cell_type": "code",
   "execution_count": 13,
   "id": "c9e582ef-3c96-45ed-82ac-56b57ef295ae",
   "metadata": {},
   "outputs": [
    {
     "name": "stdout",
     "output_type": "stream",
     "text": [
      "       Name  Age      City\n",
      "0  Pratyush   20    Ranchi\n",
      "1   Navdeep   20  Rourkela\n",
      "2     Parth   20    Mumbai\n"
     ]
    }
   ],
   "source": [
    "import pandas as pd\n",
    "info = {\n",
    "    \"Name\": pd.Series(['Pratyush', 'Navdeep', 'Parth']),\n",
    "    \"Age\": pd.Series([20, 20, 20]),\n",
    "    \"City\": pd.Series(['Ranchi', 'Rourkela', 'Mumbai'])\n",
    "}\n",
    "d2 = pd.DataFrame(info)\n",
    "print(d2)"
   ]
  },
  {
   "cell_type": "code",
   "execution_count": 15,
   "id": "0fec4d8c-9964-4af6-bed5-0701d4ddc588",
   "metadata": {},
   "outputs": [
    {
     "name": "stdout",
     "output_type": "stream",
     "text": [
      "       Name  Age      City\n",
      "0  Pratyush   20    Ranchi\n",
      "1   Navdeep   20  Rourkela\n",
      "2     Parth   20    Mumbai\n",
      "Adding a new colum to the data-farme\n",
      "\n",
      "       Name  Age      City Gender\n",
      "0  Pratyush   20    Ranchi   Male\n",
      "1   Navdeep   20  Rourkela   Male\n",
      "2     Parth   20    Mumbai   Male\n"
     ]
    }
   ],
   "source": [
    "import pandas as pd\n",
    "info = {\n",
    "    \"Name\": pd.Series(['Pratyush', 'Navdeep', 'Parth']),\n",
    "    \"Age\": pd.Series([20, 20, 20]),\n",
    "    \"City\": pd.Series(['Ranchi', 'Rourkela', 'Mumbai'])\n",
    "}\n",
    "d2 = pd.DataFrame(info)\n",
    "print(d2)\n",
    "print(\"Adding a new colum to the data-farme\")\n",
    "print()\n",
    "d2[\"Gender\"] = pd.Series(['Male', 'Male','Male'])\n",
    "print(d2)"
   ]
  },
  {
   "cell_type": "code",
   "execution_count": 16,
   "id": "5c9f4e99-1154-4869-8207-b9ac2115fd6d",
   "metadata": {},
   "outputs": [
    {
     "name": "stdout",
     "output_type": "stream",
     "text": [
      "       Name  Age      City\n",
      "0  Pratyush   20    Ranchi\n",
      "1   Navdeep   20  Rourkela\n",
      "2     Parth   20    Mumbai\n",
      "\n",
      "Adding a new colum to the data-farme\n",
      "       Name  Age      City Gender\n",
      "0  Pratyush   20    Ranchi   Male\n",
      "1   Navdeep   20  Rourkela   Male\n",
      "2     Parth   20    Mumbai   Male\n",
      "\n",
      "Deleting a column\n",
      "       Name  Age      City\n",
      "0  Pratyush   20    Ranchi\n",
      "1   Navdeep   20  Rourkela\n",
      "2     Parth   20    Mumbai\n"
     ]
    }
   ],
   "source": [
    "import pandas as pd\n",
    "info = {\n",
    "    \"Name\": pd.Series(['Pratyush', 'Navdeep', 'Parth']),\n",
    "    \"Age\": pd.Series([20, 20, 20]),\n",
    "    \"City\": pd.Series(['Ranchi', 'Rourkela', 'Mumbai'])\n",
    "}\n",
    "d2 = pd.DataFrame(info)\n",
    "print(d2)\n",
    "\n",
    "print()\n",
    "print(\"Adding a new colum to the data-farme\")\n",
    "d2[\"Gender\"] = pd.Series(['Male', 'Male','Male'])\n",
    "print(d2)\n",
    "\n",
    "print()\n",
    "print(\"Deleting a column\")\n",
    "del d2['Gender']\n",
    "print(d2)"
   ]
  },
  {
   "cell_type": "code",
   "execution_count": 17,
   "id": "6ea60f46-a280-45ba-978a-755eaf4a79ed",
   "metadata": {},
   "outputs": [
    {
     "name": "stdout",
     "output_type": "stream",
     "text": [
      "   one  two\n",
      "c  3.0    3\n",
      "d  4.0    4\n",
      "e  5.0    5\n"
     ]
    }
   ],
   "source": [
    "info = {'one': pd.Series([1,2,3,4,5], index=['a','b','c','d','e']), 'two': pd.Series([1,2,3,4,5,6], index=['a','b','c','d','e','f'])}\n",
    "df = pd.DataFrame(info)\n",
    "print(df.iloc[2:5])"
   ]
  },
  {
   "cell_type": "code",
   "execution_count": 18,
   "id": "4337401a-2e87-482e-b027-4984332ec92b",
   "metadata": {},
   "outputs": [
    {
     "name": "stdout",
     "output_type": "stream",
     "text": [
      "    x   y\n",
      "0   7   8\n",
      "1   9  10\n",
      "2  11  12\n",
      "3  13  14\n"
     ]
    }
   ],
   "source": [
    "d = pd.DataFrame([[7, 8], [9, 10]], columns=['x', 'y'])\n",
    "\n",
    "# Creating the second DataFrame\n",
    "d2 = pd.DataFrame([[11, 12], [13, 14]], columns=['x', 'y'])\n",
    "\n",
    "# Concatenating the DataFrames\n",
    "d = pd.concat([d, d2], ignore_index=True)\n",
    "\n",
    "# Displaying the concatenated DataFrame\n",
    "print(d)\n"
   ]
  },
  {
   "cell_type": "code",
   "execution_count": null,
   "id": "ab02faca-f4eb-47a3-b928-051bed121d0e",
   "metadata": {},
   "outputs": [],
   "source": []
  }
 ],
 "metadata": {
  "kernelspec": {
   "display_name": "Python 3 (ipykernel)",
   "language": "python",
   "name": "python3"
  },
  "language_info": {
   "codemirror_mode": {
    "name": "ipython",
    "version": 3
   },
   "file_extension": ".py",
   "mimetype": "text/x-python",
   "name": "python",
   "nbconvert_exporter": "python",
   "pygments_lexer": "ipython3",
   "version": "3.12.4"
  }
 },
 "nbformat": 4,
 "nbformat_minor": 5
}
